{
  "nbformat": 4,
  "nbformat_minor": 0,
  "metadata": {
    "colab": {
      "provenance": []
    },
    "kernelspec": {
      "name": "python3",
      "display_name": "Python 3"
    },
    "language_info": {
      "name": "python"
    }
  },
  "cells": [
    {
      "cell_type": "code",
      "execution_count": null,
      "metadata": {
        "colab": {
          "base_uri": "https://localhost:8080/"
        },
        "id": "ASJnnD4dTW2h",
        "outputId": "f7fee5d7-e484-423f-c6e1-0fe2099d646b"
      },
      "outputs": [
        {
          "output_type": "stream",
          "name": "stdout",
          "text": [
            "Requirement already satisfied: yfinance in /usr/local/lib/python3.10/dist-packages (0.2.40)\n",
            "Requirement already satisfied: pandas>=1.3.0 in /usr/local/lib/python3.10/dist-packages (from yfinance) (2.0.3)\n",
            "Requirement already satisfied: numpy>=1.16.5 in /usr/local/lib/python3.10/dist-packages (from yfinance) (1.25.2)\n",
            "Requirement already satisfied: requests>=2.31 in /usr/local/lib/python3.10/dist-packages (from yfinance) (2.31.0)\n",
            "Requirement already satisfied: multitasking>=0.0.7 in /usr/local/lib/python3.10/dist-packages (from yfinance) (0.0.11)\n",
            "Requirement already satisfied: lxml>=4.9.1 in /usr/local/lib/python3.10/dist-packages (from yfinance) (4.9.4)\n",
            "Requirement already satisfied: platformdirs>=2.0.0 in /usr/local/lib/python3.10/dist-packages (from yfinance) (4.2.2)\n",
            "Requirement already satisfied: pytz>=2022.5 in /usr/local/lib/python3.10/dist-packages (from yfinance) (2023.4)\n",
            "Requirement already satisfied: frozendict>=2.3.4 in /usr/local/lib/python3.10/dist-packages (from yfinance) (2.4.4)\n",
            "Requirement already satisfied: peewee>=3.16.2 in /usr/local/lib/python3.10/dist-packages (from yfinance) (3.17.5)\n",
            "Requirement already satisfied: beautifulsoup4>=4.11.1 in /usr/local/lib/python3.10/dist-packages (from yfinance) (4.12.3)\n",
            "Requirement already satisfied: html5lib>=1.1 in /usr/local/lib/python3.10/dist-packages (from yfinance) (1.1)\n",
            "Requirement already satisfied: soupsieve>1.2 in /usr/local/lib/python3.10/dist-packages (from beautifulsoup4>=4.11.1->yfinance) (2.5)\n",
            "Requirement already satisfied: six>=1.9 in /usr/local/lib/python3.10/dist-packages (from html5lib>=1.1->yfinance) (1.16.0)\n",
            "Requirement already satisfied: webencodings in /usr/local/lib/python3.10/dist-packages (from html5lib>=1.1->yfinance) (0.5.1)\n",
            "Requirement already satisfied: python-dateutil>=2.8.2 in /usr/local/lib/python3.10/dist-packages (from pandas>=1.3.0->yfinance) (2.8.2)\n",
            "Requirement already satisfied: tzdata>=2022.1 in /usr/local/lib/python3.10/dist-packages (from pandas>=1.3.0->yfinance) (2024.1)\n",
            "Requirement already satisfied: charset-normalizer<4,>=2 in /usr/local/lib/python3.10/dist-packages (from requests>=2.31->yfinance) (3.3.2)\n",
            "Requirement already satisfied: idna<4,>=2.5 in /usr/local/lib/python3.10/dist-packages (from requests>=2.31->yfinance) (3.7)\n",
            "Requirement already satisfied: urllib3<3,>=1.21.1 in /usr/local/lib/python3.10/dist-packages (from requests>=2.31->yfinance) (2.0.7)\n",
            "Requirement already satisfied: certifi>=2017.4.17 in /usr/local/lib/python3.10/dist-packages (from requests>=2.31->yfinance) (2024.6.2)\n"
          ]
        }
      ],
      "source": [
        "!pip install yfinance\n"
      ]
    },
    {
      "cell_type": "code",
      "source": [
        "import yfinance as yf\n",
        "import numpy as np\n",
        "import pandas as pd\n",
        "from sklearn.metrics import r2_score\n",
        "from sklearn.ensemble import RandomForestClassifier, RandomForestRegressor\n",
        "from sklearn.model_selection import train_test_split\n",
        "from sklearn.metrics import accuracy_score, mean_squared_error\n",
        "from scipy.optimize import minimize\n",
        "\n",
        "\n",
        "tickers = [\"VTSAX\", \"VTIAX\", \"VBTLX\", \"VDE\", \"VGSLX\", \"OPGSX\", \"BTC-USD\"]\n",
        "start_date = \"2015-01-01\"\n",
        "end_date = \"2023-01-01\"\n",
        "\n",
        "data = yf.download(tickers, start=start_date, end=end_date)['Adj Close']\n",
        "daily_returns = data.pct_change().dropna()\n",
        "\n",
        "num_portfolios = 5000\n",
        "num_assets = len(tickers)\n",
        "\n",
        "weights = np.zeros((num_portfolios, num_assets))\n",
        "\n",
        "for i in range(num_portfolios):\n",
        "    random_weights = np.random.random(num_assets)\n",
        "    random_weights[4:6] = random_weights[4:6] * 0.20 / np.sum(random_weights[4:6])\n",
        "    random_weights[6] = random_weights[6] * 0.10 / np.sum(random_weights[6])\n",
        "    weights[i, :] = random_weights / np.sum(random_weights)\n",
        "\n",
        "portfolio_returns = np.dot(daily_returns, weights.T)\n",
        "\n",
        "volatility = np.std(portfolio_returns, axis=0)\n",
        "\n",
        "annualized_volatility = volatility * np.sqrt(252)\n",
        "\n",
        "sorted_volatilities = np.sort(annualized_volatility)\n",
        "quartiles = np.percentile(sorted_volatilities, [25, 50, 75])\n",
        "\n",
        "categories = ['Low', 'Medium', 'Moderate', 'High']\n",
        "volatility_categories = pd.cut(annualized_volatility, bins=[0] + list(quartiles) + [np.inf], labels=categories, right=False)\n",
        "\n",
        "volatility_data = pd.DataFrame({\n",
        "    'Annualized Volatility': annualized_volatility,\n",
        "    'Category': volatility_categories\n",
        "})\n"
      ],
      "metadata": {
        "colab": {
          "base_uri": "https://localhost:8080/"
        },
        "id": "BCTKKyclTfBl",
        "outputId": "da3b4d23-f2d7-4bd9-cbff-5391f2135c4b"
      },
      "execution_count": null,
      "outputs": [
        {
          "output_type": "stream",
          "name": "stderr",
          "text": [
            "[*********************100%%**********************]  7 of 7 completed\n"
          ]
        }
      ]
    },
    {
      "cell_type": "code",
      "source": [
        "X = weights\n",
        "y_class = volatility_data['Category'].astype('category').cat.codes\n",
        "y_reg = volatility_data['Annualized Volatility']\n",
        "\n",
        "X_train, X_test, y_train_class, y_test_class = train_test_split(X, y_class, test_size=0.2, random_state=42)\n",
        "X_train_reg, X_test_reg, y_train_reg, y_test_reg = train_test_split(X, y_reg, test_size=0.2, random_state=42)\n",
        "\n",
        "rf_classifier = RandomForestClassifier(n_estimators=100, max_depth=None, max_features=1, random_state=42)\n",
        "rf_classifier.fit(X_train, y_train_class)\n",
        "\n",
        "rf_regressor = RandomForestRegressor(n_estimators=100, max_depth=None, max_features=1, random_state=42)\n",
        "rf_regressor.fit(X_train_reg, y_train_reg)\n",
        "\n",
        "y_pred_class = rf_classifier.predict(X_test)\n",
        "y_pred_reg = rf_regressor.predict(X_test_reg)\n",
        "\n",
        "accuracy = accuracy_score(y_test_class, y_pred_class)\n",
        "mse = mean_squared_error(y_test_reg, y_pred_reg)\n",
        "r_squared = r2_score(y_test_reg, y_pred_reg)\n",
        "\n",
        "print(f\"Classifier Accuracy: {accuracy}\")\n",
        "print(f\"Regressor Mean Squared Error: {mse}\")\n",
        "print(f\"Regressor R-squared Value: {r_squared}\")"
      ],
      "metadata": {
        "colab": {
          "base_uri": "https://localhost:8080/"
        },
        "id": "RS86Drt6Tq8_",
        "outputId": "f7e584f5-5909-4f10-f382-bc54eed42079"
      },
      "execution_count": null,
      "outputs": [
        {
          "output_type": "stream",
          "name": "stdout",
          "text": [
            "Classifier Accuracy: 0.92\n",
            "Regressor Mean Squared Error: 7.751834721707441e-05\n",
            "Regressor R-squared Value: 0.9652789905605766\n"
          ]
        }
      ]
    },
    {
      "cell_type": "code",
      "source": [
        "expected_returns = np.array([0.05, 0.10, 0.12, 0.07, 0.03, 0.09, 0.11])\n",
        "covariance_matrix = np.random.rand(7, 7)\n",
        "covariance_matrix = (covariance_matrix + covariance_matrix.T) / 2\n",
        "np.fill_diagonal(covariance_matrix, 0.1)\n",
        "\n",
        "\n",
        "risk_free_rate = 0.02 # risk free rate\n",
        "\n",
        "def objective(weights):\n",
        "    portfolio_return = np.sum(weights * expected_returns)\n",
        "    portfolio_volatility = np.sqrt(np.dot(weights.T, np.dot(covariance_matrix, weights)))\n",
        "    sharpe_ratio = (portfolio_return - risk_free_rate) / portfolio_volatility\n",
        "    return -sharpe_ratio\n",
        "\n",
        "constraints = (\n",
        "    {'type': 'eq', 'fun': lambda x: np.sum(x) - 1},\n",
        "    {'type': 'ineq', 'fun': lambda x: x - 0.2}\n",
        ")\n",
        "\n",
        "bounds = tuple((0, 1) for asset in range(len(expected_returns)))\n",
        "initial_weights = np.array(len(expected_returns) * [1. / len(expected_returns)])\n",
        "result = minimize(objective, initial_weights, method='SLSQP', bounds=bounds, constraints=constraints)\n",
        "optimized_weights = result.x\n",
        "print(\"Optimized Weights:\", optimized_weights)\n",
        "print(\"Expected Portfolio Return:\", np.sum(optimized_weights * expected_returns))\n",
        "print(\"Expected Portfolio Volatility:\", np.sqrt(np.dot(optimized_weights.T, np.dot(covariance_matrix, optimized_weights))))\n",
        "print(\"Sharpe Ratio:\", (np.sum(optimized_weights * expected_returns) - risk_free_rate) / np.sqrt(np.dot(optimized_weights.T, np.dot(covariance_matrix, optimized_weights))))\n"
      ],
      "metadata": {
        "colab": {
          "base_uri": "https://localhost:8080/"
        },
        "id": "HhTpq_NHVLII",
        "outputId": "e8fe31d6-5825-41a6-ea2b-d320e489edec"
      },
      "execution_count": null,
      "outputs": [
        {
          "output_type": "stream",
          "name": "stdout",
          "text": [
            "Optimized Weights: [0.14285714 0.14285714 0.14285714 0.14285714 0.14285714 0.14285714\n",
            " 0.14285714]\n",
            "Expected Portfolio Return: 0.08142857142873532\n",
            "Expected Portfolio Volatility: 0.6517280821266038\n",
            "Sharpe Ratio: 0.09425490954493239\n"
          ]
        }
      ]
    },
    {
      "cell_type": "code",
      "source": [],
      "metadata": {
        "id": "5E-piDQ7V3hS"
      },
      "execution_count": null,
      "outputs": []
    }
  ]
}